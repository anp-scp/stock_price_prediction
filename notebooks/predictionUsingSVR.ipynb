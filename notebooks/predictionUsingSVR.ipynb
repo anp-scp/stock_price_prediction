{
 "cells": [
  {
   "cell_type": "code",
   "execution_count": 361,
   "metadata": {},
   "outputs": [],
   "source": [
    "import numpy as np\n",
    "import pandas as pd\n",
    "import stockstats as st\n",
    "import matplotlib.pyplot as plt\n",
    "from matplotlib import style\n",
    "style.use('ggplot')"
   ]
  },
  {
   "cell_type": "code",
   "execution_count": 362,
   "metadata": {},
   "outputs": [],
   "source": [
    "data = st.StockDataFrame.retype(pd.read_csv('/home/anupam/stockPrediction/data/^BSESN (5).csv'))\n",
    "daysToForecast = 10"
   ]
  },
  {
   "cell_type": "code",
   "execution_count": 363,
   "metadata": {},
   "outputs": [],
   "source": [
    "data.index = pd.to_datetime(data.index)\n",
    "data.interpolate(method='time',inplace=True)\n",
    "#data.dropna(inplace=True)"
   ]
  },
  {
   "cell_type": "code",
   "execution_count": 364,
   "metadata": {},
   "outputs": [],
   "source": [
    "SMA5 = data['adj close'].rolling(window=5).mean()\n",
    "SMA10 = data['adj close'].rolling(window=10).mean()\n",
    "SMA20 = data['adj close'].rolling(window=20).mean()\n",
    "data = pd.concat([data,SMA5,SMA10,SMA20],axis=1,sort=False)\n",
    "data.columns.values[6] = 'sma5'\n",
    "data.columns.values[7] = 'sma10'\n",
    "data.columns.values[8] = 'sma20'"
   ]
  },
  {
   "cell_type": "code",
   "execution_count": 365,
   "metadata": {},
   "outputs": [],
   "source": [
    "prev = 0\n",
    "i = 1\n",
    "def calc(diff,volume):\n",
    "    \"part of on balance volume\"\n",
    "    global i\n",
    "    global prev\n",
    "    if i == 1:\n",
    "        i = 0\n",
    "        prev = volume\n",
    "        return volume\n",
    "    elif diff > 0:\n",
    "        value = prev = prev + volume\n",
    "        return value\n",
    "    elif diff < 0:\n",
    "        value = prev = prev - volume\n",
    "        return value\n",
    "    elif diff == 0:\n",
    "        value = prev\n",
    "        return value\n",
    "\n",
    "def OBV(data):\n",
    "    \"function to calculate on balance volume\"\n",
    "    data['prior close'] = data['adj close'].shift(1)\n",
    "    data['diff'] = data['adj close'] - data['prior close']\n",
    "    temp = [calc(x,y) for x,y in zip(data['diff'].values[1:],data['volume'].values[1:])]\n",
    "    temp = temp + [0]\n",
    "    temp = np.array(temp)\n",
    "    data['obv'] = temp\n",
    "    data['obv'] = data['obv'].shift(1)\n",
    "    data.drop(['prior close','diff'],axis=1,inplace=True)\n",
    "    return data\n",
    "\n",
    "data = OBV(data)"
   ]
  },
  {
   "cell_type": "code",
   "execution_count": 366,
   "metadata": {},
   "outputs": [
    {
     "name": "stderr",
     "output_type": "stream",
     "text": [
      "/home/anupam/anaconda3/lib/python3.6/site-packages/stockstats.py:387: FutureWarning: Currently, 'apply' passes the values as ndarrays to the applied function. In the future, this will change to passing it as Series objects. You need to specify 'raw=True' to keep the current behaviour, and you can pass 'raw=False' to silence this warning\n",
      "  lambda x: np.fabs(x - x.mean()).mean())\n"
     ]
    }
   ],
   "source": [
    "data['macd']  #to calculate moving avrage convergence divergence\n",
    "data['rsi_10']#to calculate relative strength index for 10 dsys\n",
    "data['rsi_20']#to calculate relative strength index for 20 days\n",
    "data['cci_20']#to calculate commodity channel index for 20 days\n",
    "data['atr']   #to calculate average true range for 14 days\n",
    "data['wr_14'] #to calculate williams%R for 14 days\n",
    "data['kdjk']  #a stochastic oscillator\n",
    "data['kdjd']  #a stochastic oscillator(here a is used so that cell doesn't display the series)\n",
    "a = data['trix'] # to calculate triple exponentially smoothed moving average"
   ]
  },
  {
   "cell_type": "code",
   "execution_count": 367,
   "metadata": {},
   "outputs": [],
   "source": [
    "featureList = ['open', 'high', 'low', 'adj close','volume','sma5','sma10','sma20','macd','rsi_10', 'rsi_20','cci_20','atr','wr_14','kdjk','kdjd','obv','trix']\n",
    "data1 = data[featureList]"
   ]
  },
  {
   "cell_type": "code",
   "execution_count": 368,
   "metadata": {},
   "outputs": [],
   "source": [
    "data1.dropna(inplace=True)"
   ]
  },
  {
   "cell_type": "code",
   "execution_count": 369,
   "metadata": {},
   "outputs": [
    {
     "data": {
      "text/plain": [
       "(5278, 18)"
      ]
     },
     "execution_count": 369,
     "metadata": {},
     "output_type": "execute_result"
    }
   ],
   "source": [
    "data1.shape"
   ]
  },
  {
   "cell_type": "code",
   "execution_count": 370,
   "metadata": {},
   "outputs": [],
   "source": [
    "from sklearn import preprocessing\n",
    "scaler = preprocessing.StandardScaler()\n",
    "data1Scaled = pd.DataFrame(scaler.fit_transform(data1),columns=featureList)"
   ]
  },
  {
   "cell_type": "code",
   "execution_count": 371,
   "metadata": {},
   "outputs": [],
   "source": [
    "data1Scaled['Label'] = np.array(data1['adj close'].shift(-(daysToForecast)).values)"
   ]
  },
  {
   "cell_type": "code",
   "execution_count": 372,
   "metadata": {},
   "outputs": [],
   "source": [
    "data2Scaled = data1Scaled.dropna(inplace=False)"
   ]
  },
  {
   "cell_type": "code",
   "execution_count": 373,
   "metadata": {},
   "outputs": [
    {
     "name": "stdout",
     "output_type": "stream",
     "text": [
      "open         0.997824\n",
      "high         0.997905\n",
      "low          0.997916\n",
      "adj close    0.997973\n",
      "volume       0.181103\n",
      "sma5         0.997740\n",
      "sma10        0.997401\n",
      "sma20        0.996707\n",
      "macd         0.182463\n",
      "rsi_10       0.087348\n",
      "rsi_20       0.123564\n",
      "cci_20       0.066223\n",
      "atr          0.666327\n",
      "wr_14       -0.067984\n",
      "kdjk         0.069108\n",
      "kdjd         0.077652\n",
      "obv          0.918424\n",
      "trix         0.062925\n",
      "Label        1.000000\n",
      "Name: Label, dtype: float64\n"
     ]
    }
   ],
   "source": [
    "l = data2Scaled.corr()['Label']\n",
    "print(l)"
   ]
  },
  {
   "cell_type": "code",
   "execution_count": 374,
   "metadata": {},
   "outputs": [
    {
     "data": {
      "image/png": "[encoded data removed]",
      "text/plain": [
       "<Figure size 504x504 with 1 Axes>"
      ]
     },
     "metadata": {},
     "output_type": "display_data"
    }
   ],
   "source": [
    "plt.figure(figsize=(7,7))\n",
    "plt.bar(data2Scaled.columns.values,abs(data2Scaled.corr()['Label'].values),color='gray')\n",
    "plt.xlabel('features')\n",
    "plt.xticks(rotation=90)\n",
    "plt.ylabel('absolute values correlation coefficients')\n",
    "plt.show()"
   ]
  },
  {
   "cell_type": "code",
   "execution_count": 375,
   "metadata": {},
   "outputs": [],
   "source": [
    "list = [column for column in l.index.values if 0.5<abs(l[column])<1]"
   ]
  },
  {
   "cell_type": "code",
   "execution_count": 376,
   "metadata": {},
   "outputs": [],
   "source": [
    "from sklearn.decomposition import PCA\n",
    "pca = PCA()\n",
    "pca.fit(data2Scaled[list])\n",
    "pcaData = pca.transform(data2Scaled[list])"
   ]
  },
  {
   "cell_type": "code",
   "execution_count": 377,
   "metadata": {},
   "outputs": [],
   "source": [
    "components = ['PC' + str(x) for x in range(1,len(pca.explained_variance_)+1)]\n",
    "varianceTable = pd.DataFrame({'Variance':pca.explained_variance_,'Variance %': pca.explained_variance_ratio_*100},index=components)"
   ]
  },
  {
   "cell_type": "code",
   "execution_count": 378,
   "metadata": {},
   "outputs": [
    {
     "data": {
      "text/html": [
       "<div>\n",
       "<style scoped>\n",
       "    .dataframe tbody tr th:only-of-type {\n",
       "        vertical-align: middle;\n",
       "    }\n",
       "\n",
       "    .dataframe tbody tr th {\n",
       "        vertical-align: top;\n",
       "    }\n",
       "\n",
       "    .dataframe thead th {\n",
       "        text-align: right;\n",
       "    }\n",
       "</style>\n",
       "<table border=\"1\" class=\"dataframe\">\n",
       "  <thead>\n",
       "    <tr style=\"text-align: right;\">\n",
       "      <th></th>\n",
       "      <th>Variance</th>\n",
       "      <th>Variance %</th>\n",
       "    </tr>\n",
       "  </thead>\n",
       "  <tbody>\n",
       "    <tr>\n",
       "      <th>PC1</th>\n",
       "      <td>8.308972</td>\n",
       "      <td>92.889497</td>\n",
       "    </tr>\n",
       "    <tr>\n",
       "      <th>PC2</th>\n",
       "      <td>0.532379</td>\n",
       "      <td>5.951691</td>\n",
       "    </tr>\n",
       "    <tr>\n",
       "      <th>PC3</th>\n",
       "      <td>0.101138</td>\n",
       "      <td>1.130663</td>\n",
       "    </tr>\n",
       "    <tr>\n",
       "      <th>PC4</th>\n",
       "      <td>0.001995</td>\n",
       "      <td>0.022302</td>\n",
       "    </tr>\n",
       "    <tr>\n",
       "      <th>PC5</th>\n",
       "      <td>0.000273</td>\n",
       "      <td>0.003050</td>\n",
       "    </tr>\n",
       "    <tr>\n",
       "      <th>PC6</th>\n",
       "      <td>0.000136</td>\n",
       "      <td>0.001526</td>\n",
       "    </tr>\n",
       "    <tr>\n",
       "      <th>PC7</th>\n",
       "      <td>0.000052</td>\n",
       "      <td>0.000577</td>\n",
       "    </tr>\n",
       "    <tr>\n",
       "      <th>PC8</th>\n",
       "      <td>0.000050</td>\n",
       "      <td>0.000556</td>\n",
       "    </tr>\n",
       "    <tr>\n",
       "      <th>PC9</th>\n",
       "      <td>0.000012</td>\n",
       "      <td>0.000138</td>\n",
       "    </tr>\n",
       "  </tbody>\n",
       "</table>\n",
       "</div>"
      ],
      "text/plain": [
       "     Variance  Variance %\n",
       "PC1  8.308972   92.889497\n",
       "PC2  0.532379    5.951691\n",
       "PC3  0.101138    1.130663\n",
       "PC4  0.001995    0.022302\n",
       "PC5  0.000273    0.003050\n",
       "PC6  0.000136    0.001526\n",
       "PC7  0.000052    0.000577\n",
       "PC8  0.000050    0.000556\n",
       "PC9  0.000012    0.000138"
      ]
     },
     "execution_count": 378,
     "metadata": {},
     "output_type": "execute_result"
    }
   ],
   "source": [
    "varianceTable"
   ]
  },
  {
   "cell_type": "code",
   "execution_count": 379,
   "metadata": {},
   "outputs": [],
   "source": [
    "selectedComponents = [x for x,y in zip(range(len(pca.explained_variance_)),pca.explained_variance_) if y>=0.1]"
   ]
  },
  {
   "cell_type": "code",
   "execution_count": 380,
   "metadata": {},
   "outputs": [],
   "source": [
    "componentTable = pd.DataFrame(index=list)\n",
    "for x in selectedComponents:\n",
    "    componentTable['PC' + str(x+1)] = pd.Series(pca.components_[x],index=list)"
   ]
  },
  {
   "cell_type": "code",
   "execution_count": 381,
   "metadata": {},
   "outputs": [
    {
     "data": {
      "text/html": [
       "<div>\n",
       "<style scoped>\n",
       "    .dataframe tbody tr th:only-of-type {\n",
       "        vertical-align: middle;\n",
       "    }\n",
       "\n",
       "    .dataframe tbody tr th {\n",
       "        vertical-align: top;\n",
       "    }\n",
       "\n",
       "    .dataframe thead th {\n",
       "        text-align: right;\n",
       "    }\n",
       "</style>\n",
       "<table border=\"1\" class=\"dataframe\">\n",
       "  <thead>\n",
       "    <tr style=\"text-align: right;\">\n",
       "      <th></th>\n",
       "      <th>PC1</th>\n",
       "      <th>PC2</th>\n",
       "      <th>PC3</th>\n",
       "    </tr>\n",
       "  </thead>\n",
       "  <tbody>\n",
       "    <tr>\n",
       "      <th>open</th>\n",
       "      <td>0.343859</td>\n",
       "      <td>-0.126900</td>\n",
       "      <td>0.093234</td>\n",
       "    </tr>\n",
       "    <tr>\n",
       "      <th>high</th>\n",
       "      <td>0.343996</td>\n",
       "      <td>-0.121508</td>\n",
       "      <td>0.092480</td>\n",
       "    </tr>\n",
       "    <tr>\n",
       "      <th>low</th>\n",
       "      <td>0.343671</td>\n",
       "      <td>-0.134465</td>\n",
       "      <td>0.089196</td>\n",
       "    </tr>\n",
       "    <tr>\n",
       "      <th>adj close</th>\n",
       "      <td>0.343839</td>\n",
       "      <td>-0.127684</td>\n",
       "      <td>0.089683</td>\n",
       "    </tr>\n",
       "    <tr>\n",
       "      <th>sma5</th>\n",
       "      <td>0.343888</td>\n",
       "      <td>-0.125485</td>\n",
       "      <td>0.093966</td>\n",
       "    </tr>\n",
       "    <tr>\n",
       "      <th>sma10</th>\n",
       "      <td>0.343919</td>\n",
       "      <td>-0.120871</td>\n",
       "      <td>0.100586</td>\n",
       "    </tr>\n",
       "    <tr>\n",
       "      <th>sma20</th>\n",
       "      <td>0.343958</td>\n",
       "      <td>-0.110943</td>\n",
       "      <td>0.113547</td>\n",
       "    </tr>\n",
       "    <tr>\n",
       "      <th>atr</th>\n",
       "      <td>0.254445</td>\n",
       "      <td>0.924650</td>\n",
       "      <td>0.282472</td>\n",
       "    </tr>\n",
       "    <tr>\n",
       "      <th>obv</th>\n",
       "      <td>0.327878</td>\n",
       "      <td>0.192627</td>\n",
       "      <td>-0.924730</td>\n",
       "    </tr>\n",
       "  </tbody>\n",
       "</table>\n",
       "</div>"
      ],
      "text/plain": [
       "                PC1       PC2       PC3\n",
       "open       0.343859 -0.126900  0.093234\n",
       "high       0.343996 -0.121508  0.092480\n",
       "low        0.343671 -0.134465  0.089196\n",
       "adj close  0.343839 -0.127684  0.089683\n",
       "sma5       0.343888 -0.125485  0.093966\n",
       "sma10      0.343919 -0.120871  0.100586\n",
       "sma20      0.343958 -0.110943  0.113547\n",
       "atr        0.254445  0.924650  0.282472\n",
       "obv        0.327878  0.192627 -0.924730"
      ]
     },
     "execution_count": 381,
     "metadata": {},
     "output_type": "execute_result"
    }
   ],
   "source": [
    "componentTable"
   ]
  },
  {
   "cell_type": "code",
   "execution_count": 382,
   "metadata": {},
   "outputs": [],
   "source": [
    "pcaData = pd.DataFrame(data=pcaData) "
   ]
  },
  {
   "cell_type": "code",
   "execution_count": 383,
   "metadata": {},
   "outputs": [],
   "source": [
    "X = np.array(pcaData[selectedComponents])\n",
    "y = np.array(data2Scaled['Label'])"
   ]
  },
  {
   "cell_type": "code",
   "execution_count": 384,
   "metadata": {},
   "outputs": [],
   "source": [
    "from sklearn.model_selection import train_test_split\n",
    "from sklearn import svm\n",
    "from sklearn.linear_model import LinearRegression"
   ]
  },
  {
   "cell_type": "code",
   "execution_count": 385,
   "metadata": {},
   "outputs": [
    {
     "name": "stdout",
     "output_type": "stream",
     "text": [
      "SVR(C=10000, cache_size=200, coef0=0.0, degree=3, epsilon=0.01, gamma=0.001,\n",
      "  kernel='rbf', max_iter=-1, shrinking=True, tol=0.001, verbose=False)\n",
      "R-squared = 0.9213792749053598\n"
     ]
    }
   ],
   "source": [
    "X_train, X_test, y_train, y_test = train_test_split(X,y,shuffle=False)\n",
    "svr_rbf = svm.SVR(C=10000,gamma=0.001,epsilon=0.01)\n",
    "# model = LinearRegression()\n",
    "svr_rbf.fit(X_train,y_train)\n",
    "print(svr_rbf)\n",
    "r2rbf = svr_rbf.score(X_test,y_test)\n",
    "print(\"R-squared = {}\".format(r2rbf))"
   ]
  },
  {
   "cell_type": "code",
   "execution_count": 386,
   "metadata": {},
   "outputs": [
    {
     "name": "stdout",
     "output_type": "stream",
     "text": [
      "SVR(C=10000, cache_size=200, coef0=0.0, degree=3, epsilon=0.0001, gamma=0.01,\n",
      "  kernel='poly', max_iter=-1, shrinking=True, tol=0.001, verbose=False)\n",
      "R-squared = -2.6180696069127194\n"
     ]
    }
   ],
   "source": [
    "svr_poly = svm.SVR(C=10000,gamma=0.01,epsilon=0.0001,kernel='poly',degree=3)\n",
    "# model = LinearRegression()\n",
    "svr_poly.fit(X_train,y_train)\n",
    "print(svr_poly)\n",
    "r2poly = svr_poly.score(X_test,y_test)\n",
    "print(\"R-squared = {}\".format(r2poly))"
   ]
  },
  {
   "cell_type": "code",
   "execution_count": 387,
   "metadata": {},
   "outputs": [
    {
     "name": "stdout",
     "output_type": "stream",
     "text": [
      "SVR(C=10000, cache_size=200, coef0=0.0, degree=3, epsilon=0.1, gamma=0.001,\n",
      "  kernel='sigmoid', max_iter=-1, shrinking=True, tol=0.001, verbose=False)\n",
      "R-squared = 0.9519416310183291\n"
     ]
    }
   ],
   "source": [
    "svr_sigmoid = svm.SVR(C=10000,gamma=0.001,epsilon=0.1,kernel='sigmoid')\n",
    "# model = LinearRegression()\n",
    "svr_sigmoid.fit(X_train,y_train)\n",
    "print(svr_sigmoid)\n",
    "r2sigmoid = svr_sigmoid.score(X_test,y_test)\n",
    "print(\"R-squared = {}\".format(r2sigmoid))"
   ]
  },
  {
   "cell_type": "code",
   "execution_count": 388,
   "metadata": {},
   "outputs": [
    {
     "name": "stdout",
     "output_type": "stream",
     "text": [
      "SVR(C=1000, cache_size=200, coef0=0.0, degree=3, epsilon=0.01, gamma='auto',\n",
      "  kernel='linear', max_iter=-1, shrinking=True, tol=0.001, verbose=False)\n",
      "R-squared = 0.9712607032330527\n"
     ]
    }
   ],
   "source": [
    "svr_linear = svm.SVR(C=1000,epsilon=0.01,kernel='linear')\n",
    "# model = LinearRegression()\n",
    "svr_linear.fit(X_train,y_train)\n",
    "print(svr_linear)\n",
    "r2linear = svr_linear.score(X_test,y_test)\n",
    "print(\"R-squared = {}\".format(r2linear))"
   ]
  },
  {
   "cell_type": "code",
   "execution_count": 389,
   "metadata": {},
   "outputs": [],
   "source": [
    "predict = svr_linear.predict(np.concatenate((X_train,X_test),axis=0))"
   ]
  },
  {
   "cell_type": "code",
   "execution_count": 390,
   "metadata": {},
   "outputs": [],
   "source": [
    "df = pd.DataFrame(data=data1['adj close'])\n",
    "df['Forecasted close'] =np.concatenate((np.array([np.nan for x in range(daysToForecast)]), predict),axis=0)\n",
    "df.dropna(inplace=True)"
   ]
  },
  {
   "cell_type": "code",
   "execution_count": 391,
   "metadata": {},
   "outputs": [
    {
     "data": {
      "image/png": "[encoded data removed]",
      "text/plain": [
       "<Figure size 1080x720 with 1 Axes>"
      ]
     },
     "metadata": {},
     "output_type": "display_data"
    }
   ],
   "source": [
    "plt.figure(figsize=(15,10))\n",
    "plt.plot(df['adj close'],label='actual close')\n",
    "plt.plot(df['Forecasted close'],label='forecasted close')\n",
    "plt.xlabel('Date')\n",
    "plt.ylabel('Price')\n",
    "plt.xticks(rotation=90)\n",
    "plt.legend(fontsize=20)\n",
    "plt.show()"
   ]
  }
 ],
 "metadata": {
  "kernelspec": {
   "display_name": "Python 3",
   "language": "python",
   "name": "python3"
  },
  "language_info": {
   "codemirror_mode": {
    "name": "ipython",
    "version": 3
   },
   "file_extension": ".py",
   "mimetype": "text/x-python",
   "name": "python",
   "nbconvert_exporter": "python",
   "pygments_lexer": "ipython3",
   "version": "3.6.5"
  }
 },
 "nbformat": 4,
 "nbformat_minor": 2
}
